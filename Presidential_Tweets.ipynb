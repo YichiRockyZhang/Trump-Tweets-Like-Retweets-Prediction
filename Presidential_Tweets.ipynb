{
  "nbformat": 4,
  "nbformat_minor": 0,
  "metadata": {
    "colab": {
      "name": "Presidential Tweets.ipynb",
      "provenance": [],
      "collapsed_sections": [
        "IN2y-m728hyu",
        "a8wlfTsN9N8a",
        "ewUI_GpR_UjJ",
        "hu1ogazg_sd5",
        "4KdtUb6DnTld",
        "kVeBL1-dvw4r",
        "lTZqcTJD2RNn",
        "Z4dLDz8h3agV",
        "1vQs2OXeJOUp",
        "D7OLzsHeQjWt",
        "HeDBWpR-Qn6c",
        "tbb6gz0hTv-b",
        "s-Jd3gvvzKDi"
      ]
    },
    "kernelspec": {
      "display_name": "Python 3",
      "name": "python3"
    },
    "language_info": {
      "name": "python"
    }
  },
  "cells": [
    {
      "cell_type": "markdown",
      "metadata": {
        "id": "SLkCLnSZ4Ugb"
      },
      "source": [
        "# **An Analysis of Donald Trump's Tweets:**\n",
        "# CMSC320 Final Project\n",
        "\n",
        "**By Yichi \"Rocky\" Zhang, 5/16/21**\n",
        "\n",
        "The 45th Commander-in-chief was known for his frequent use for his presence on Twitter. The tag @realDonaldTrump served as a direct window to the President's head, becoming a point of attraction for all Americans. Furthermore, it was often the first place the president's supporters, critics, and, occasionally, staff would find out about the direction Trump aimed to steer the nation. Trump's tweets are rich and diverse to say the least. He constantly leveraged Twitter to galvanize his base, criticize his political opponents, and announce policies.\n",
        "\n",
        "As a result, Trump's tweets are a unique collection of varying sentiments, and attempting to predict the response (likes, retweets) of a Trump tweet could give insights about what tweets go \"viral.\" In this tutorial, we will explore the tweets of the 45th president in hopes of being able to predict how many likes and retweets a fake Trump tweet would receive."
      ]
    },
    {
      "cell_type": "markdown",
      "metadata": {
        "id": "ZQxNGRxd3gny"
      },
      "source": [
        "**Table of Contents:**\n",
        "1.   Libraries\n",
        "2.   Data Collection and Curation\n",
        "\n",
        "    2.1 Download\n",
        "\n",
        "    2.2 Preliminary Data Augmentation\n",
        "\n",
        "3.   Exploratory Data Analysis\n",
        "    \n",
        "    3.1 Qualitative Analysis\n",
        "\n",
        "    3.2 Quantitative Analysis\n",
        "\n",
        "4.   Natural Language Processing\n",
        "    \n",
        "    4.1 Libraries\n",
        "\n",
        "    4.2 Data Cleaning and Preprocessing\n",
        "\n",
        "    4.3 Sentiment Analysis\n",
        "\n",
        "5.   Machine Learning\n",
        "\n",
        "    5.1.1 Libraries\n",
        "    \n",
        "    5.1.2 Creating a Train/Test Split\n",
        "\n",
        "    5.1.3 Approach 1: Decision Tree Regressor\n",
        "\n",
        "    5.2 Using Deep Learning\n",
        "\n",
        "    5.2.1 Approach 2: Vectorization\n",
        "\n",
        "    5.2.2 Approach 3: Sentiments and Vectorization\n",
        "\n",
        "6.  Results\n",
        "\n",
        "    6.1 Future Work\n",
        "    \n",
        "    6.2 Conclusion"
      ]
    },
    {
      "cell_type": "markdown",
      "metadata": {
        "id": "5ps_KauR8MkZ"
      },
      "source": [
        "# **1. Libraries**\n",
        "Below are the standard data science libraries that we will be using. Pandas is a software library for data manipulation and analysis. It provides us with a powerful way to manipulate databases called [dataframes](https://www.google.com/url?sa=t&rct=j&q=&esrc=s&source=web&cd=&ved=2ahUKEwjCs6GlzM3wAhVZK80KHcqwBiUQFjAAegQIAxAD&url=https%3A%2F%2Fpandas.pydata.org%2FPandas_Cheat_Sheet.pdf&usg=AOvVaw2Z0H-ttrFe-41ta-Cnkf55). Second, we will be using [NumPy](https://numpy.org/doc/stable/reference/) in case we need to do some numerical transformations. [Seaborn](https://seaborn.pydata.org/) is a library that easily integrates with Pandas to make beautiful graphs. Internally, Seaborn uses Matplotlib's pyplot, so we include Matplotlib to manually adjust things like the title, ticks, and labels of a graph.\n"
      ]
    },
    {
      "cell_type": "code",
      "metadata": {
        "id": "ddBSI3GSDgFh"
      },
      "source": [
        "import pandas as pd\n",
        "import numpy as np\n",
        "import seaborn as sns\n",
        "import matplotlib.pyplot as plt\n",
        "import matplotlib.dates as mdates\n",
        "\n",
        "# Our default figure size\n",
        "plt.rcParams['figure.figsize'] = 6.4, 4.8"
      ],
      "execution_count": 3,
      "outputs": []
    },
    {
      "cell_type": "markdown",
      "metadata": {
        "id": "2nNsRXra7-Ko"
      },
      "source": [
        "# **2. Data Collection and Curation**"
      ]
    },
    {
      "cell_type": "markdown",
      "metadata": {
        "id": "IN2y-m728hyu"
      },
      "source": [
        "# **2.1 Download**\n",
        "We will download a .csv hosted on https://www.thetrumparchive.com/. Since the file is hosted on Google Drive, we will use Google's own [`gdown`](https://pypi.org/project/gdown/) command. Another option would be using a library like Tweepy, but Donald Trump's Twitter account was indefinitely suspended on January 8th, 2021, so this is not longer an option. Tweepy is an interface for Twitter's own API, so it's still subject to the restrictions of Twitter's API (in terms of limiting requests). We are also focusing on the tweets strictly during Trump's term as president. While this may leave out some gold from during the campaign, I think this time frame is appropriately focused because we can get an idea of his evolution as president.\n",
        "\n",
        "The .csv includes the following features for each tweet:\n",
        "\n",
        "id: The id Twitter uses internally (e.g. 20 is the id for https://twitter.com/jack/status/20). Note: At this point, ids are much longer.\n",
        "\n",
        "text: The text content of the tweet.\n",
        "\n",
        "isRetweet: t/f denoting whether or not the tweet was a retweet. If the tweet is a retweet, the text component will begin with `RT @______` where the @ is who is retweeted.\n",
        "\n",
        "isDeleted: t/f denoting whether or not the tweet was deleted (before the account was suspended).\n",
        "\n",
        "device: The device from which the tweet was sent.\n",
        "\n",
        "favorites: The number of favorites (now called likes).\n",
        "\n",
        "retweets: The number of retweets.\n",
        "\n",
        "date: The date and time (UTC) of the tweet.\n",
        "\n",
        "isFlagged: t/f denoting whether or not Twitter flagged the tweet.\n"
      ]
    },
    {
      "cell_type": "code",
      "metadata": {
        "colab": {
          "base_uri": "https://localhost:8080/"
        },
        "id": "thBy7iYNEh69",
        "outputId": "79c6a994-187b-4d1d-bcd6-36049afee347"
      },
      "source": [
        "# Download Tweet Data from 2009 to January 8th (account suspension)\n",
        "! pip install gdown\n",
        "! gdown https://drive.google.com/uc?id=1xRKHaP-QwACMydlDnyFPEaFdtskJuBa6"
      ],
      "execution_count": 4,
      "outputs": [
        {
          "output_type": "stream",
          "text": [
            "Requirement already satisfied: gdown in /usr/local/lib/python3.7/dist-packages (3.6.4)\n",
            "Requirement already satisfied: six in /usr/local/lib/python3.7/dist-packages (from gdown) (1.15.0)\n",
            "Requirement already satisfied: requests in /usr/local/lib/python3.7/dist-packages (from gdown) (2.23.0)\n",
            "Requirement already satisfied: tqdm in /usr/local/lib/python3.7/dist-packages (from gdown) (4.41.1)\n",
            "Requirement already satisfied: idna<3,>=2.5 in /usr/local/lib/python3.7/dist-packages (from requests->gdown) (2.10)\n",
            "Requirement already satisfied: certifi>=2017.4.17 in /usr/local/lib/python3.7/dist-packages (from requests->gdown) (2020.12.5)\n",
            "Requirement already satisfied: urllib3!=1.25.0,!=1.25.1,<1.26,>=1.21.1 in /usr/local/lib/python3.7/dist-packages (from requests->gdown) (1.24.3)\n",
            "Requirement already satisfied: chardet<4,>=3.0.2 in /usr/local/lib/python3.7/dist-packages (from requests->gdown) (3.0.4)\n",
            "Downloading...\n",
            "From: https://drive.google.com/uc?id=1xRKHaP-QwACMydlDnyFPEaFdtskJuBa6\n",
            "To: /content/tweets_01-08-2021.csv\n",
            "11.6MB [00:00, 183MB/s]\n"
          ],
          "name": "stdout"
        }
      ]
    },
    {
      "cell_type": "markdown",
      "metadata": {
        "id": "a8wlfTsN9N8a"
      },
      "source": [
        "# **2.2 Preliminary Data Augmentation**\n",
        "After reading the .csv into a Pandas `dataframe`, the rest are mostly housekeeping tasks. Notably, we will change the `date` column from a string to a [`datetime64`](https://numpy.org/doc/stable/reference/arrays.datetime.html) object, which is used by Numpy. This allows us to easily sort the dataframe chronologically. The timezones are also changed from UTC to EST to reflect the location of the Whitehouse. We also add columns representing the days since inauguration, the hour of the day, and the month/year of the tweet for convenience because it's often easier to see time series data is discretized chunks, such as hours/months."
      ]
    },
    {
      "cell_type": "code",
      "metadata": {
        "colab": {
          "base_uri": "https://localhost:8080/",
          "height": 414
        },
        "id": "NzNhW-pBFFak",
        "outputId": "42f085cf-cb9a-4334-f6e9-806dd165c9f8"
      },
      "source": [
        "# Use pandas to read the .csv into a Dataframe\n",
        "df = pd.read_csv('tweets_01-08-2021.csv')\n",
        "\n",
        "# Rename 'favorites' column to 'likes' (Twitter rebranded in 2015)\n",
        "df.rename(columns={\"favorites\": \"likes\"}, inplace=True)\n",
        "\n",
        "# Convert date strings to datetime64 objects\n",
        "df['date']= pd.to_datetime(df['date'], format='%Y-%m-%d %H:%M:%S')\n",
        "# Convert the UTC times to EST\n",
        "# Geographic data is not taken into account\n",
        "df['date'] = df.apply(lambda row: row['date'].tz_localize('UTC')\\\n",
        "                          .tz_convert('US/Eastern'), axis=1)\n",
        "\n",
        "# We are only interested in data during Trump's term (2017-2021)\n",
        "# Drop all other tweets\n",
        "START_TERM = pd.to_datetime('2017-01-20').tz_localize('US/Eastern')\n",
        "END_TERM = pd.to_datetime('2021-01-20').tz_localize('US/Eastern')\n",
        "ELECTION_DAY = pd.to_datetime('2020-11-03').tz_localize('US/Eastern')\n",
        "df = df[((df['date'] >= END_TERM) | (df['date'] >= START_TERM))]\n",
        "\n",
        "# create a new series (column) for the hour of the tweet (EST)\n",
        "df['hour'] = df.apply(lambda row: int(row['date'].strftime('%H')), axis=1)\n",
        "\n",
        "# create a new series (column) for the days since Trump's inauguration\n",
        "df['days_in_office'] = df.apply(lambda row: (row['date']-START_TERM).days, axis=1)\n",
        "\n",
        "# create a new series (column) for the month and year of the tweet\n",
        "df['MM-YYYY'] = df.apply(lambda row: row['date'].strftime('%m-%Y'), axis=1)\n",
        "\n",
        "# Shows 5 tweets\n",
        "df.tail(5)"
      ],
      "execution_count": 5,
      "outputs": [
        {
          "output_type": "execute_result",
          "data": {
            "text/html": [
              "<div>\n",
              "<style scoped>\n",
              "    .dataframe tbody tr th:only-of-type {\n",
              "        vertical-align: middle;\n",
              "    }\n",
              "\n",
              "    .dataframe tbody tr th {\n",
              "        vertical-align: top;\n",
              "    }\n",
              "\n",
              "    .dataframe thead th {\n",
              "        text-align: right;\n",
              "    }\n",
              "</style>\n",
              "<table border=\"1\" class=\"dataframe\">\n",
              "  <thead>\n",
              "    <tr style=\"text-align: right;\">\n",
              "      <th></th>\n",
              "      <th>id</th>\n",
              "      <th>text</th>\n",
              "      <th>isRetweet</th>\n",
              "      <th>isDeleted</th>\n",
              "      <th>device</th>\n",
              "      <th>likes</th>\n",
              "      <th>retweets</th>\n",
              "      <th>date</th>\n",
              "      <th>isFlagged</th>\n",
              "      <th>hour</th>\n",
              "      <th>days_in_office</th>\n",
              "      <th>MM-YYYY</th>\n",
              "    </tr>\n",
              "  </thead>\n",
              "  <tbody>\n",
              "    <tr>\n",
              "      <th>56566</th>\n",
              "      <td>1319485303363571714</td>\n",
              "      <td>RT @RandPaul: I don’t know why @JoeBiden think...</td>\n",
              "      <td>t</td>\n",
              "      <td>f</td>\n",
              "      <td>Twitter for iPhone</td>\n",
              "      <td>0</td>\n",
              "      <td>20683</td>\n",
              "      <td>2020-10-22 23:46:25-04:00</td>\n",
              "      <td>f</td>\n",
              "      <td>23</td>\n",
              "      <td>1371</td>\n",
              "      <td>10-2020</td>\n",
              "    </tr>\n",
              "    <tr>\n",
              "      <th>56567</th>\n",
              "      <td>1319484210101379072</td>\n",
              "      <td>RT @EliseStefanik: President @realDonaldTrump ...</td>\n",
              "      <td>t</td>\n",
              "      <td>f</td>\n",
              "      <td>Twitter for iPhone</td>\n",
              "      <td>0</td>\n",
              "      <td>9869</td>\n",
              "      <td>2020-10-22 23:42:05-04:00</td>\n",
              "      <td>f</td>\n",
              "      <td>23</td>\n",
              "      <td>1371</td>\n",
              "      <td>10-2020</td>\n",
              "    </tr>\n",
              "    <tr>\n",
              "      <th>56568</th>\n",
              "      <td>1319444420861829121</td>\n",
              "      <td>RT @TeamTrump: LIVE: Presidential Debate #Deba...</td>\n",
              "      <td>t</td>\n",
              "      <td>f</td>\n",
              "      <td>Twitter for iPhone</td>\n",
              "      <td>0</td>\n",
              "      <td>8197</td>\n",
              "      <td>2020-10-22 21:03:58-04:00</td>\n",
              "      <td>f</td>\n",
              "      <td>21</td>\n",
              "      <td>1371</td>\n",
              "      <td>10-2020</td>\n",
              "    </tr>\n",
              "    <tr>\n",
              "      <th>56569</th>\n",
              "      <td>1319384118849949702</td>\n",
              "      <td>Just signed an order to support the workers of...</td>\n",
              "      <td>f</td>\n",
              "      <td>f</td>\n",
              "      <td>Twitter for iPhone</td>\n",
              "      <td>176289</td>\n",
              "      <td>36001</td>\n",
              "      <td>2020-10-22 17:04:21-04:00</td>\n",
              "      <td>f</td>\n",
              "      <td>17</td>\n",
              "      <td>1371</td>\n",
              "      <td>10-2020</td>\n",
              "    </tr>\n",
              "    <tr>\n",
              "      <th>56570</th>\n",
              "      <td>1319345719829008387</td>\n",
              "      <td>Suburban women want Safety &amp;amp; Security. Joe...</td>\n",
              "      <td>f</td>\n",
              "      <td>f</td>\n",
              "      <td>Twitter for iPhone</td>\n",
              "      <td>95169</td>\n",
              "      <td>19545</td>\n",
              "      <td>2020-10-22 14:31:46-04:00</td>\n",
              "      <td>f</td>\n",
              "      <td>14</td>\n",
              "      <td>1371</td>\n",
              "      <td>10-2020</td>\n",
              "    </tr>\n",
              "  </tbody>\n",
              "</table>\n",
              "</div>"
            ],
            "text/plain": [
              "                        id  ...  MM-YYYY\n",
              "56566  1319485303363571714  ...  10-2020\n",
              "56567  1319484210101379072  ...  10-2020\n",
              "56568  1319444420861829121  ...  10-2020\n",
              "56569  1319384118849949702  ...  10-2020\n",
              "56570  1319345719829008387  ...  10-2020\n",
              "\n",
              "[5 rows x 12 columns]"
            ]
          },
          "metadata": {
            "tags": []
          },
          "execution_count": 5
        }
      ]
    },
    {
      "cell_type": "markdown",
      "metadata": {
        "id": "ewUI_GpR_UjJ"
      },
      "source": [
        "# **3. Exploratory Data Analysis**"
      ]
    },
    {
      "cell_type": "markdown",
      "metadata": {
        "id": "hu1ogazg_sd5"
      },
      "source": [
        "# **3.1 Qualitative Analysis**\n",
        "This section is dedicated to giving us some broad ideas about the President's tweeting behaviors. First, we will use [Seaborn](https://seaborn.pydata.org/) to visualize the number of times that Trump tweeted at each hour of the day. As seen in the graph, the common hours of the day for a presidential tweet are 7-10 AM, suggesting Trump enjoyed tweeting during or shortly after breakfast and Fox & Friends (6 AM). After 10 AM, the frequency of dips quickly dips until 2 PM, when it starts steadily rising until midnight, except for a small dip at 6-7 PM presumably for dinner. To the amusement of the nation, there are also a handful of [late-night tweets](https://www.theatlantic.com/politics/archive/2016/10/what-trump-tweets-while-america-sleeps/503141/s://).\n"
      ]
    },
    {
      "cell_type": "code",
      "metadata": {
        "colab": {
          "base_uri": "https://localhost:8080/",
          "height": 339
        },
        "id": "4_SuyuHGPFke",
        "outputId": "db420fa9-7c90-4a1f-b4aa-ae867315ec46"
      },
      "source": [
        "# Plotting frequency of tweets by hour of the day\n",
        "sns.set_style(\"whitegrid\")\n",
        "ax = sns.countplot(data=df, x=\"hour\", order=[x for x in range(24)])\n",
        "ax.set(xlabel='Hour of the Day (24 hour)', ylabel='Frequency', title=\"Frequency of Tweets by Hour\");"
      ],
      "execution_count": 6,
      "outputs": [
        {
          "output_type": "display_data",
          "data": {
            "image/png": "[encoded data removed]",
            "text/plain": [
              "<Figure size 460.8x345.6 with 1 Axes>"
            ]
          },
          "metadata": {
            "tags": []
          }
        }
      ]
    },
    {
      "cell_type": "markdown",
      "metadata": {
        "id": "gd6wrBC8Dins"
      },
      "source": [
        "The scatterplot below represents each tweet as a data point, and the number of likes of the tweet is its height. Even without adding a regression line, it is clear that more of Trump's \"greatest hits\" on Twitter came towards the end of his presidency in terms of likes. In fact, half of the likes with more than 750 thousand likes happened after Election Day."
      ]
    },
    {
      "cell_type": "code",
      "metadata": {
        "colab": {
          "base_uri": "https://localhost:8080/",
          "height": 376
        },
        "id": "kGhd7N7BT03C",
        "outputId": "782b7ab9-0b45-44af-e8ae-7605a85936bb"
      },
      "source": [
        "# Plotting likes vs. date tweeted of each tweet \n",
        "fig = sns.scatterplot(data=df, x=\"date\", y='likes', edgecolor=None, s=1)\n",
        "fig.set(xlabel='Date', ylabel='Likes (millions)', title=\"Likes over Time\");\n",
        "\n",
        "likes_750k = df[df['likes'] > 750000]\n",
        "print(f'Number of Tweets > 750k Likes: {len(likes_750k)}')\n",
        "print(f'Number of Tweets > 750k Likes After Election Day: '+ \\\n",
        "      str(len(likes_750k[likes_750k['date'] >= ELECTION_DAY])))"
      ],
      "execution_count": 7,
      "outputs": [
        {
          "output_type": "stream",
          "text": [
            "Number of Tweets > 750k Likes: 14\n",
            "Number of Tweets > 750k Likes After Election Day: 7\n"
          ],
          "name": "stdout"
        },
        {
          "output_type": "display_data",
          "data": {
            "image/png": "[encoded data removed]",
            "text/plain": [
              "<Figure size 460.8x345.6 with 1 Axes>"
            ]
          },
          "metadata": {
            "tags": []
          }
        }
      ]
    },
    {
      "cell_type": "markdown",
      "metadata": {
        "id": "Z03MGaWNZFsm"
      },
      "source": [
        "The previous scatter plot was a bit messy. Instead of plotting on a continuous domain, let's plot the relevant features by month. Below we plot each month's total tweets, average likes, and average retweets. We immediately see that there is a strong correlation between likes and retweets since they appear to track each other nearly perfectly when averaged over the month. The two also appear to rise and fall more or less seasonally until November 2020 (election month. The number of tweets appears to steadily increase every until the election as well. After losing the election, the number of tweets tapers off dramatically, while likes and retweets rising dramatically. Combined with the fact that half of Trump's tweets with over 750 thousand likes occurred after election day, we can infer that the increase in likes after the election is from Trump's critics."
      ]
    },
    {
      "cell_type": "code",
      "metadata": {
        "colab": {
          "base_uri": "https://localhost:8080/",
          "height": 404
        },
        "id": "Vj9RfHBFh0VD",
        "outputId": "5c12a4e2-53c1-4b12-8e40-0e61758606a0"
      },
      "source": [
        "# Increase the size of this plot\n",
        "plt.rcParams['figure.figsize'] = (8, 6)\n",
        "\n",
        "# Sort the values chronologically, so the labels appear in order\n",
        "df.sort_values(['date'], inplace=True)\n",
        "\n",
        "# Plot the number of tweets, average likes, average retweets on each month\n",
        "# in a single plot (3 subplots)\n",
        "fig, ax = plt.subplots(3,1, sharex=True)\n",
        "sns.countplot(ax=ax[0], data=df, x='MM-YYYY')\n",
        "sns.barplot(ax=ax[1], data=df, x='MM-YYYY', y='likes')\n",
        "rt_plt = sns.barplot(ax=ax[2], data=df, x='MM-YYYY', y='retweets')\n",
        "\n",
        "# Only show a label for one in six months to avoid cramped labels\n",
        "for i, label in enumerate(rt_plt.xaxis.get_ticklabels()):\n",
        "    if i % 6 != 0: label.set_visible(False);\n",
        "\n",
        "# Formatting and adding titles\n",
        "ax[0].xaxis.label.set_visible(False)\n",
        "ax[1].xaxis.label.set_visible(False)\n",
        "ax[0].set(title=\"Total Tweets By Month\")\n",
        "ax[1].set(title=\"Average Likes By Month\")\n",
        "ax[2].set(title=\"Average Retweets By Month\")\n",
        "\n",
        "# Reset plot sizes\n",
        "plt.rcParams['figure.figsize'] = (6.4, 4.8);"
      ],
      "execution_count": 8,
      "outputs": [
        {
          "output_type": "display_data",
          "data": {
            "image/png": "[encoded data removed]",
            "text/plain": [
              "<Figure size 576x432 with 3 Axes>"
            ]
          },
          "metadata": {
            "tags": []
          }
        }
      ]
    },
    {
      "cell_type": "markdown",
      "metadata": {
        "id": "4KdtUb6DnTld"
      },
      "source": [
        "# **3.2 Quantitative Analysis**\n",
        "Recall our end goal is to be able to predict the amount of likes and retweets a tweet will get. Visualizing the correlations between the quantitative features we have so far could help, so I constructed a heat map of the correlations between each of the variables. As we noted earlier, likes and retweets seem to have a strong correlation (r=0.77), but none of our other variables seem to correlate well with either likes or retweets. This is unsurprising because it would be almost magical if we were able to predict likes soley off the time.\n",
        "\n",
        "Of course, in order to predict how well a tweet will do we must have some idea of its (text) contents. Enter: natural language processing."
      ]
    },
    {
      "cell_type": "code",
      "metadata": {
        "colab": {
          "base_uri": "https://localhost:8080/",
          "height": 399
        },
        "id": "qvJiJ7W-0jlf",
        "outputId": "15ae3e34-c692-41fa-b9aa-9939e1710ced"
      },
      "source": [
        "plt.rcParams['figure.figsize'] = (8, 6)\n",
        "\n",
        "# id is a number and thus quantitative but we know it will be useless\n",
        "# Compute the correlation matrix\n",
        "corr = df[['likes', 'retweets', 'hour', 'days_in_office']].corr()\n",
        "\n",
        "# Mask off the upper triagle because it's redundant\n",
        "mask = np.triu(np.ones_like(corr, dtype=bool))\n",
        "\n",
        "# Plot heat map\n",
        "fig = sns.heatmap(data=corr, square=True, annot=True, mask=mask)\n",
        "fig.set(title='Correlation Heatmap')\n",
        "\n",
        "# Reset plot sizes\n",
        "plt.rcParams['figure.figsize'] = (6.4, 4.8);"
      ],
      "execution_count": 9,
      "outputs": [
        {
          "output_type": "display_data",
          "data": {
            "image/png": "[encoded data removed]",
            "text/plain": [
              "<Figure size 576x432 with 2 Axes>"
            ]
          },
          "metadata": {
            "tags": []
          }
        }
      ]
    },
    {
      "cell_type": "markdown",
      "metadata": {
        "id": "kVeBL1-dvw4r"
      },
      "source": [
        "# **4. Natural Language Processing**\n",
        "The goal of applying NLP is to get us features related to the substantive contents of the tweet in hopes that they will allow us to predict the reception of the tweet (better than trivial proporties like time of day)."
      ]
    },
    {
      "cell_type": "markdown",
      "metadata": {
        "id": "lTZqcTJD2RNn"
      },
      "source": [
        "# **4.1 Libraries**\n",
        "re, emoji, and string are used to \"clean\" the data. In particular, we want to make the data more consistent in order to do sentiment analysis on it. The two other libraries more or less revolve around [re](https://www.debuggex.com/cheatsheet/regex/python://), which uses regular expressions to make widespread substitutions and deletions.\n",
        "\n",
        "nltk and textblob will be used to do sentiment analysis. We will be avoid the specfic techniques that each use but more information can be found here for [nltk](https://www.programcreek.com/python/example/100005/nltk.sentiment.vader.SentimentIntensityAnalyzer) ([vader](https://towardsdatascience.com/sentimental-analysis-using-vader-a3415fef7664)) and [textblob](https://textblob.readthedocs.io/en/dev/api_reference.html#textblob.blob.TextBlob.sentiment). Here's another tutorial for using [vader](https://www.youtube.com/watch?v=Alu_cCXNS-k)."
      ]
    },
    {
      "cell_type": "code",
      "metadata": {
        "colab": {
          "base_uri": "https://localhost:8080/"
        },
        "id": "rNBYamZD2X1z",
        "outputId": "dd2bf5a1-79be-4d70-b60a-4329b3adfcbb"
      },
      "source": [
        "import re\n",
        "import string\n",
        "!pip install emoji\n",
        "import emoji\n",
        "\n",
        "import nltk\n",
        "from nltk.sentiment.vader import SentimentIntensityAnalyzer\n",
        "nltk.download('vader_lexicon')\n",
        "\n",
        "!pip install textblob\n",
        "from textblob import TextBlob"
      ],
      "execution_count": 10,
      "outputs": [
        {
          "output_type": "stream",
          "text": [
            "Collecting emoji\n",
            "\u001b[?25l  Downloading https://files.pythonhosted.org/packages/24/fa/b3368f41b95a286f8d300e323449ab4e86b85334c2e0b477e94422b8ed0f/emoji-1.2.0-py3-none-any.whl (131kB)\n",
            "\r\u001b[K     |██▌                             | 10kB 9.7MB/s eta 0:00:01\r\u001b[K     |█████                           | 20kB 12.7MB/s eta 0:00:01\r\u001b[K     |███████▌                        | 30kB 13.9MB/s eta 0:00:01\r\u001b[K     |██████████                      | 40kB 9.8MB/s eta 0:00:01\r\u001b[K     |████████████▌                   | 51kB 5.0MB/s eta 0:00:01\r\u001b[K     |███████████████                 | 61kB 5.9MB/s eta 0:00:01\r\u001b[K     |█████████████████▌              | 71kB 6.1MB/s eta 0:00:01\r\u001b[K     |████████████████████            | 81kB 6.4MB/s eta 0:00:01\r\u001b[K     |██████████████████████▌         | 92kB 6.7MB/s eta 0:00:01\r\u001b[K     |█████████████████████████       | 102kB 7.0MB/s eta 0:00:01\r\u001b[K     |███████████████████████████▌    | 112kB 7.0MB/s eta 0:00:01\r\u001b[K     |██████████████████████████████  | 122kB 7.0MB/s eta 0:00:01\r\u001b[K     |████████████████████████████████| 133kB 7.0MB/s \n",
            "\u001b[?25hInstalling collected packages: emoji\n",
            "Successfully installed emoji-1.2.0\n"
          ],
          "name": "stdout"
        },
        {
          "output_type": "stream",
          "text": [
            "/usr/local/lib/python3.7/dist-packages/nltk/twitter/__init__.py:20: UserWarning: The twython library has not been installed. Some functionality from the twitter package will not be available.\n",
            "  warnings.warn(\"The twython library has not been installed. \"\n"
          ],
          "name": "stderr"
        },
        {
          "output_type": "stream",
          "text": [
            "[nltk_data] Downloading package vader_lexicon to /root/nltk_data...\n",
            "Requirement already satisfied: textblob in /usr/local/lib/python3.7/dist-packages (0.15.3)\n",
            "Requirement already satisfied: nltk>=3.1 in /usr/local/lib/python3.7/dist-packages (from textblob) (3.2.5)\n",
            "Requirement already satisfied: six in /usr/local/lib/python3.7/dist-packages (from nltk>=3.1->textblob) (1.15.0)\n"
          ],
          "name": "stdout"
        }
      ]
    },
    {
      "cell_type": "markdown",
      "metadata": {
        "id": "Z4dLDz8h3agV"
      },
      "source": [
        "# **4.2 Data Cleaning and Preprocessing**\n",
        "The goal is to extract the sentiment from each tweet, and several features of tweets make this trick. Look at the tweet below: it contains things such as links, the retweet prefix, and puncuation that are not part of natural language. So we will remove the aforementioned nuisances to make the text more easily digestible. We will also make the text all lowercase for the same reason. "
      ]
    },
    {
      "cell_type": "code",
      "metadata": {
        "colab": {
          "base_uri": "https://localhost:8080/"
        },
        "id": "ukGiqubwDIyN",
        "outputId": "e3c55534-b230-4a05-f9af-06c27dfa1272"
      },
      "source": [
        "# Sample problematic tweet 1\n",
        "print(df['text'][214])\n",
        "\n",
        "# Instance of weird &amp; encoding issue (problematic tweet 2)\n",
        "print(df['text'][56570])"
      ],
      "execution_count": 11,
      "outputs": [
        {
          "output_type": "stream",
          "text": [
            "RT @DanScavino: 🔊WOW! We hear you from the West Wing—THANK YOU❤️🇺🇸🦅 https://t.co/onytmaJUhp\n",
            "Suburban women want Safety &amp; Security. Joe Biden cannot give that to anyone! https://t.co/NWSZ5tGz5E\n"
          ],
          "name": "stdout"
        }
      ]
    },
    {
      "cell_type": "markdown",
      "metadata": {
        "id": "yNVMnQ5THrP1"
      },
      "source": [
        "Looking at the cleaned version of the problematic string, we see that it is now much more digestable now that the emojis, puncuation, and retweet prefix are removed."
      ]
    },
    {
      "cell_type": "code",
      "metadata": {
        "colab": {
          "base_uri": "https://localhost:8080/"
        },
        "id": "v-HTp-rx3hwZ",
        "outputId": "e5ca2d82-654c-4412-8546-8043f3b05f2c"
      },
      "source": [
        "def strip_emoji(text):\n",
        "    new_text = re.sub(emoji.get_emoji_regexp(), r'', text)\n",
        "    return new_text\n",
        "\n",
        "remove_rt = lambda x: re.sub(r'RT @\\w+: ', ' ', x)\n",
        "remove_links = lambda x: re.sub(r'''(?i)\\b((?:https?://|www\\d{0,3}[.]|[a-z0-9.\\-]+[.][a-z]{2,4}/)(?:[^\\s()<>]+|\\(([^\\s()<>]+|(\\([^\\s()<>]+\\)))*\\))+(?:\\(([^\\s()<>]+|(\\([^\\s()<>]+\\)))*\\)|[^\\s`!()\\[\\]{};:'\".,<>?«»“”‘’]))''', \" \", x)\n",
        "\n",
        "for index, row in df.iterrows():\n",
        "    txt = row['text']\n",
        "\n",
        "    txt = re.sub(r'&amp;', ' ', txt) # removes annoying '&amp;' encoding thing\n",
        "\n",
        "    # removes the prefix to retweets if needed\n",
        "    if row['isRetweet'] == 't': txt = remove_rt(txt)\n",
        "    \n",
        "    txt = remove_links(txt) # deletes links\n",
        "    txt = strip_emoji(txt) # removes all emojis :((\n",
        "    txt = txt.lower() # makes all text lowercase\n",
        "    txt = txt.translate(str.maketrans('', '', string.punctuation+'—')) # removes punctuation\n",
        "\n",
        "    df.loc[index, 'clean_txt'] = txt\n",
        "\n",
        "# Problematic tweet 1 after cleaning\n",
        "print(df['clean_txt'][214])"
      ],
      "execution_count": 12,
      "outputs": [
        {
          "output_type": "stream",
          "text": [
            " wow we hear you from the west wingthank you️  \n"
          ],
          "name": "stdout"
        }
      ]
    },
    {
      "cell_type": "markdown",
      "metadata": {
        "id": "1vQs2OXeJOUp"
      },
      "source": [
        "# **4.3 Sentiment Analysis**\n",
        "Using TextBlob, we get the polarity and subjectivity of each tweet. Using NLTK, we can get the compound, negative, neutral, and negative scores for each tweet."
      ]
    },
    {
      "cell_type": "code",
      "metadata": {
        "id": "OO49xFj-JNaz",
        "colab": {
          "base_uri": "https://localhost:8080/",
          "height": 573
        },
        "outputId": "d2543711-d684-407e-85d9-056f0361721f"
      },
      "source": [
        "# Iterating over each row\n",
        "for index, row in df.iterrows():\n",
        "    txt = row['clean_txt']\n",
        "\n",
        "    # Determining polarity and subjectivity scores\n",
        "    txtblb_res = TextBlob(txt).sentiment\n",
        "    df.loc[index, 'pol'], df.loc[index, 'subj'] = \\\n",
        "            txtblb_res.polarity, txtblb_res.subjectivity\n",
        "\n",
        "    # Determining compound, negative, neutral, and negative score\n",
        "    vadar_res = SentimentIntensityAnalyzer().polarity_scores(txt)\n",
        "    df.loc[index, 'comp'] = vadar_res['compound']\n",
        "    df.loc[index, 'neg'] = vadar_res['neg']\n",
        "    df.loc[index, 'neu'] = vadar_res['neu']\n",
        "    df.loc[index, 'pos'] = vadar_res['pos']\n",
        "\n",
        "df.head(5)"
      ],
      "execution_count": 13,
      "outputs": [
        {
          "output_type": "execute_result",
          "data": {
            "text/html": [
              "<div>\n",
              "<style scoped>\n",
              "    .dataframe tbody tr th:only-of-type {\n",
              "        vertical-align: middle;\n",
              "    }\n",
              "\n",
              "    .dataframe tbody tr th {\n",
              "        vertical-align: top;\n",
              "    }\n",
              "\n",
              "    .dataframe thead th {\n",
              "        text-align: right;\n",
              "    }\n",
              "</style>\n",
              "<table border=\"1\" class=\"dataframe\">\n",
              "  <thead>\n",
              "    <tr style=\"text-align: right;\">\n",
              "      <th></th>\n",
              "      <th>id</th>\n",
              "      <th>text</th>\n",
              "      <th>isRetweet</th>\n",
              "      <th>isDeleted</th>\n",
              "      <th>device</th>\n",
              "      <th>likes</th>\n",
              "      <th>retweets</th>\n",
              "      <th>date</th>\n",
              "      <th>isFlagged</th>\n",
              "      <th>hour</th>\n",
              "      <th>days_in_office</th>\n",
              "      <th>MM-YYYY</th>\n",
              "      <th>clean_txt</th>\n",
              "      <th>pol</th>\n",
              "      <th>subj</th>\n",
              "      <th>comp</th>\n",
              "      <th>neg</th>\n",
              "      <th>neu</th>\n",
              "      <th>pos</th>\n",
              "    </tr>\n",
              "  </thead>\n",
              "  <tbody>\n",
              "    <tr>\n",
              "      <th>45739</th>\n",
              "      <td>822421390125043713</td>\n",
              "      <td>It all begins today! I will see you at 11:00 A...</td>\n",
              "      <td>f</td>\n",
              "      <td>f</td>\n",
              "      <td>Twitter for Android</td>\n",
              "      <td>232628</td>\n",
              "      <td>57772</td>\n",
              "      <td>2017-01-20 07:31:53-05:00</td>\n",
              "      <td>f</td>\n",
              "      <td>7</td>\n",
              "      <td>0</td>\n",
              "      <td>01-2017</td>\n",
              "      <td>it all begins today i will see you at 1100 am ...</td>\n",
              "      <td>0.00</td>\n",
              "      <td>0.0</td>\n",
              "      <td>0.0000</td>\n",
              "      <td>0.000</td>\n",
              "      <td>1.000</td>\n",
              "      <td>0.000</td>\n",
              "    </tr>\n",
              "    <tr>\n",
              "      <th>45738</th>\n",
              "      <td>822501803615014918</td>\n",
              "      <td>Today we are not merely transferring power fro...</td>\n",
              "      <td>f</td>\n",
              "      <td>f</td>\n",
              "      <td>Twitter for iPhone</td>\n",
              "      <td>94860</td>\n",
              "      <td>16452</td>\n",
              "      <td>2017-01-20 12:51:25-05:00</td>\n",
              "      <td>f</td>\n",
              "      <td>12</td>\n",
              "      <td>0</td>\n",
              "      <td>01-2017</td>\n",
              "      <td>today we are not merely transferring power fro...</td>\n",
              "      <td>0.25</td>\n",
              "      <td>0.5</td>\n",
              "      <td>0.2144</td>\n",
              "      <td>0.000</td>\n",
              "      <td>0.919</td>\n",
              "      <td>0.081</td>\n",
              "    </tr>\n",
              "    <tr>\n",
              "      <th>45737</th>\n",
              "      <td>822501939267141634</td>\n",
              "      <td>power from Washington, D.C. and giving it back...</td>\n",
              "      <td>f</td>\n",
              "      <td>f</td>\n",
              "      <td>Twitter for iPhone</td>\n",
              "      <td>78281</td>\n",
              "      <td>14880</td>\n",
              "      <td>2017-01-20 12:51:58-05:00</td>\n",
              "      <td>f</td>\n",
              "      <td>12</td>\n",
              "      <td>0</td>\n",
              "      <td>01-2017</td>\n",
              "      <td>power from washington dc and giving it back to...</td>\n",
              "      <td>0.00</td>\n",
              "      <td>0.0</td>\n",
              "      <td>0.3400</td>\n",
              "      <td>0.000</td>\n",
              "      <td>0.844</td>\n",
              "      <td>0.156</td>\n",
              "    </tr>\n",
              "    <tr>\n",
              "      <th>45736</th>\n",
              "      <td>822502135233384448</td>\n",
              "      <td>What truly matters is not which party controls...</td>\n",
              "      <td>f</td>\n",
              "      <td>f</td>\n",
              "      <td>Twitter for iPhone</td>\n",
              "      <td>157266</td>\n",
              "      <td>35758</td>\n",
              "      <td>2017-01-20 12:52:45-05:00</td>\n",
              "      <td>f</td>\n",
              "      <td>12</td>\n",
              "      <td>0</td>\n",
              "      <td>01-2017</td>\n",
              "      <td>what truly matters is not which party controls...</td>\n",
              "      <td>0.00</td>\n",
              "      <td>0.0</td>\n",
              "      <td>0.0954</td>\n",
              "      <td>0.079</td>\n",
              "      <td>0.776</td>\n",
              "      <td>0.145</td>\n",
              "    </tr>\n",
              "    <tr>\n",
              "      <th>45735</th>\n",
              "      <td>822502270503972872</td>\n",
              "      <td>January 20th 2017, will be remembered as the d...</td>\n",
              "      <td>f</td>\n",
              "      <td>f</td>\n",
              "      <td>Twitter for iPhone</td>\n",
              "      <td>197191</td>\n",
              "      <td>54888</td>\n",
              "      <td>2017-01-20 12:53:17-05:00</td>\n",
              "      <td>f</td>\n",
              "      <td>12</td>\n",
              "      <td>0</td>\n",
              "      <td>01-2017</td>\n",
              "      <td>january 20th 2017 will be remembered as the da...</td>\n",
              "      <td>0.00</td>\n",
              "      <td>0.0</td>\n",
              "      <td>0.0000</td>\n",
              "      <td>0.000</td>\n",
              "      <td>1.000</td>\n",
              "      <td>0.000</td>\n",
              "    </tr>\n",
              "  </tbody>\n",
              "</table>\n",
              "</div>"
            ],
            "text/plain": [
              "                       id  ...    pos\n",
              "45739  822421390125043713  ...  0.000\n",
              "45738  822501803615014918  ...  0.081\n",
              "45737  822501939267141634  ...  0.156\n",
              "45736  822502135233384448  ...  0.145\n",
              "45735  822502270503972872  ...  0.000\n",
              "\n",
              "[5 rows x 19 columns]"
            ]
          },
          "metadata": {
            "tags": []
          },
          "execution_count": 13
        }
      ]
    },
    {
      "cell_type": "markdown",
      "metadata": {
        "id": "UN0z5kz3pGJu"
      },
      "source": [
        "The code block below shows the impact of preprocessing on the first problematic tweet from the section above. Without preprocessing, we would be completely unable to extract any sentiment from that particular tweet."
      ]
    },
    {
      "cell_type": "code",
      "metadata": {
        "colab": {
          "base_uri": "https://localhost:8080/"
        },
        "id": "aaX-vPN82YKt",
        "outputId": "15227a82-5358-4f75-d30b-b8b99e7b97f3"
      },
      "source": [
        "print(f'No preprocesing: ' + str(TextBlob(df['text'][214]).sentiment))\n",
        "print(f'With preprocesing: ' + str(TextBlob(df['clean_txt'][214]).sentiment))"
      ],
      "execution_count": null,
      "outputs": [
        {
          "output_type": "stream",
          "text": [
            "No preprocesing: Sentiment(polarity=0.0, subjectivity=0.0)\n",
            "With preprocesing: Sentiment(polarity=0.1, subjectivity=1.0)\n"
          ],
          "name": "stdout"
        }
      ]
    },
    {
      "cell_type": "markdown",
      "metadata": {
        "id": "DcUvlz1GpYbh"
      },
      "source": [
        "After doing sentiment analysis over the whole dataset, we want to see if there are new promising features that may help us create a regressor. Once again, we will create a correlation heat map to see if any of the new features has a strong correlation with likes or retweets.\n",
        "\n",
        "After generating the heat map below, this sadly does not seem to be the case. None of the correlation coefficients relating to likes or retweets seem to be greater than 0.15, meaning there is very little correlation."
      ]
    },
    {
      "cell_type": "code",
      "metadata": {
        "colab": {
          "base_uri": "https://localhost:8080/",
          "height": 451
        },
        "id": "G1f__HauMEqf",
        "outputId": "05ff5b5e-39dd-4f84-c12a-aaea8fe819a7"
      },
      "source": [
        "# Resize plot\n",
        "plt.rcParams['figure.figsize'] = (8, 6);\n",
        "\n",
        "# id is a number and thus quantitative but we know it will be useless\n",
        "# Compute the correlation matrix\n",
        "corr = df.drop(columns='id').corr()\n",
        "\n",
        "# Mask off the upper triagle because it's redundant\n",
        "mask = np.triu(np.ones_like(corr, dtype=bool))\n",
        "\n",
        "# Plot heat map\n",
        "fig = sns.heatmap(data=corr, square=True, annot=True, mask=mask);\n",
        "fig.set(title='Correlation Heatmap')\n",
        "\n",
        "# Reset plot sizes\n",
        "plt.rcParams['figure.figsize'] = (6.4, 4.8);"
      ],
      "execution_count": 14,
      "outputs": [
        {
          "output_type": "display_data",
          "data": {
            "image/png": "[encoded data removed]",
            "text/plain": [
              "<Figure size 576x432 with 2 Axes>"
            ]
          },
          "metadata": {
            "tags": []
          }
        }
      ]
    },
    {
      "cell_type": "markdown",
      "metadata": {
        "id": "D7OLzsHeQjWt"
      },
      "source": [
        "# **5. Machine Learning**\n",
        "Remaining undeterred, we may still be able to create a model using these features. Since our six sentiment features seem rather straightforward, we may be able to construct a simple decision tree regressor to predict the likes/retweets of a tweet. For an accessible, nontechnical introduction to decision trees, check out this [article](https://hbr.org/1964/07/decision-trees-for-decision-making). TLDR: the model is playing 20 questions to predict/classify data.\n",
        "\n",
        "I suspect a decision tree model because Trump's base would love his bluntly negative tweets that he addressed to his critics, so it's possible that heavily negative and subjective tweets are prone to get many likes and retweets."
      ]
    },
    {
      "cell_type": "markdown",
      "metadata": {
        "id": "HeDBWpR-Qn6c"
      },
      "source": [
        "# **5.1.1 Libraries**\n",
        "Everything we need is in sklearn. Each thing will be discussed in passing."
      ]
    },
    {
      "cell_type": "code",
      "metadata": {
        "id": "IHryQCTnQzZ7"
      },
      "source": [
        "from sklearn.model_selection import train_test_split\n",
        "from sklearn.model_selection import cross_val_score\n",
        "from sklearn.tree import DecisionTreeClassifier, DecisionTreeRegressor\n",
        "from sklearn.metrics import mean_squared_error"
      ],
      "execution_count": 15,
      "outputs": []
    },
    {
      "cell_type": "markdown",
      "metadata": {
        "id": "tbb6gz0hTv-b"
      },
      "source": [
        "# **5.1.2 Creating a Train/Test Split**\n",
        "As with any machine learning technique, we have to differentiate between data that we train on and data that we test on. Testing and training on the same data would be like a professor giving you a study guide and telling you it's a copy of the exam. Then, you would not learn to apply anything and simply memorize the answers. We'll use a train/test split of 8:2, determined by sklearn's `train_test_split` function."
      ]
    },
    {
      "cell_type": "code",
      "metadata": {
        "colab": {
          "base_uri": "https://localhost:8080/"
        },
        "id": "IRauZhYlTw9R",
        "outputId": "7a10d741-f8a7-448a-94bc-c6f38616ffc3"
      },
      "source": [
        "# Our training features (independent variables)\n",
        "x = df[['pol', 'subj', 'comp', 'neg', 'neu', 'pos']]\n",
        "# What we are trying to predict\n",
        "y = df[['likes', 'retweets']]\n",
        "\n",
        "# 80% of the data will be assigned to the training data, and the rest to testing\n",
        "x_train, x_test, y_train, y_test = train_test_split(x, y, test_size = 0.2, random_state = 0)\n",
        "x_train.shape, x_test.shape"
      ],
      "execution_count": 16,
      "outputs": [
        {
          "output_type": "execute_result",
          "data": {
            "text/plain": [
              "((20989, 6), (5248, 6))"
            ]
          },
          "metadata": {
            "tags": []
          },
          "execution_count": 16
        }
      ]
    },
    {
      "cell_type": "markdown",
      "metadata": {
        "id": "vSc5iZPwSH9H"
      },
      "source": [
        "# **5.1.3 Approach 1: Decision Tree Regressor**\n",
        "A decision tree is a group of paths of nodes originating from a single point (root). At each node, a decision is made that determines what node you travel to next. Decision trees' \"decisions\" are splits on variables that divide whatever inputs are fed to it (e.g. bringing an umbrella if chance of rain is greater than 30%). When used for classification, a decision tree splits the input data continuously in order to predict categories that a sample falls under. Regression tasks are similar, but the tree predicts some value(s) for the target feature.\n",
        "\n",
        "Unfortunately, the results of using a decision tree regressor were horrible. We achieved a test $R^2$ value of 0.026, meaning the model was able to explaing 2.6% of the variance in the predictions, which is basically the same as predicting with a horizontal line. A depth of 7 was used, and I was unable to use a larger depth without overfitting."
      ]
    },
    {
      "cell_type": "code",
      "metadata": {
        "colab": {
          "base_uri": "https://localhost:8080/"
        },
        "id": "QfchiV3kS1cy",
        "outputId": "eb380b1f-109e-4f5d-9ef1-63f66c712ac4"
      },
      "source": [
        "# Supress annoying warning\n",
        "import warnings\n",
        "warnings.filterwarnings(\"ignore\")\n",
        "\n",
        "dec_tree = DecisionTreeRegressor(max_depth=7)\n",
        "# Fit the model \n",
        "dec_tree.fit(x_train, y_train)\n",
        "\n",
        "# Predict the target value from the model for the samples\n",
        "test_pred = dec_tree.predict(x_test)\n",
        "train_pred = dec_tree.predict(x_train)\n",
        "\n",
        "# Computing the accuracy of the model performance\n",
        "train_r2 = dec_tree.score(x_train, y_train)\n",
        "test_r2 = dec_tree.score(x_test, y_test)\n",
        "\n",
        "# Compute root mean squared error (RMSE)\n",
        "rmse_train_tree = np.sqrt(mean_squared_error(y_train, train_pred))\n",
        "rmse_test_tree = np.sqrt(mean_squared_error(y_test, test_pred))\n",
        "\n",
        "print('Training Data: --------------------------------------')\n",
        "print('Coefficient of Determination (R^2): {:.3f}'.format(train_r2))\n",
        "print('RMSE:', rmse_train_tree)\n",
        "\n",
        "print('Test Data: ------------------------------------------')\n",
        "print('Coefficient of Determination (R^2): {:.3f}'.format(test_r2))\n",
        "print('RMSE:', rmse_test_tree)\n",
        "print('-----------------------------------------------------\\n')"
      ],
      "execution_count": 17,
      "outputs": [
        {
          "output_type": "stream",
          "text": [
            "Training Data: --------------------------------------\n",
            "Coefficient of Determination (R^2): 0.161\n",
            "RMSE: 49223.71667398689\n",
            "Test Data: ------------------------------------------\n",
            "Coefficient of Determination (R^2): 0.077\n",
            "RMSE: 49891.88405576381\n",
            "-----------------------------------------------------\n",
            "\n"
          ],
          "name": "stdout"
        }
      ]
    },
    {
      "cell_type": "markdown",
      "metadata": {
        "id": "s-Jd3gvvzKDi"
      },
      "source": [
        "# **5.2 Using Deep Learning**\n",
        "In hindsight, it does not appear that sentiment features were enough to make a good model. A potential explaination is that the Trump's more well received tweets may have been well-received by either his base or his opposition, so the model have have been \"confused\" by these two causes especially since they are not directly reflected in the sentiments directly.\n",
        "\n",
        "Another solution could be employing a neural network. By using deep learning on the text directly, we may be able to get better results if the network is able to learn the data with more granularity. Instead of looking at summary statistics like sentiments as the decision tree did, the neural network will be learning on a representation of the words themselves (a vector)."
      ]
    },
    {
      "cell_type": "markdown",
      "metadata": {
        "id": "1yizwIi0UN2S"
      },
      "source": [
        "# **5.2.1 Approach 2: Vectorization**\n",
        "\n",
        "`CountVectorizer` provides a sparse feature representation by default to save memory which is reasonable because only some words occur in individual example. However, for training neural network models, we generally use a dense representation vector. `MLPRegressor` will then be used to calculate the loss and backpropagate on us to train the model. "
      ]
    },
    {
      "cell_type": "code",
      "metadata": {
        "colab": {
          "base_uri": "https://localhost:8080/",
          "height": 693
        },
        "id": "3Pn3qqQDDSDG",
        "outputId": "48b797d5-a15b-49b8-f3be-388bb5b6eb92"
      },
      "source": [
        "from sklearn.feature_extraction.text import CountVectorizer\n",
        "from sklearn.neural_network import MLPRegressor\n",
        "from sklearn.metrics import accuracy_score\n",
        "\n",
        "# Generating Train/Test Split\n",
        "x = df['clean_txt']\n",
        "y = df[['likes', 'retweets']]\n",
        "x_train, x_test, y_train, y_test = train_test_split(x, y, test_size = 0.2, random_state = 0)\n",
        "\n",
        "# Fit data using CountVectorizer\n",
        "cv = CountVectorizer(stop_words=\"english\", max_features=4000, ngram_range=(1, 2))\n",
        "x_train, x_test = cv.fit_transform(x_train), cv.transform(x_test)\n",
        "\n",
        "x_train = np.array(x_train.todense()).astype(float)\n",
        "x_test = np.array(x_test.todense()).astype(float)\n",
        "y_train, y_test = np.array(y_train), np.array(y_test)\n",
        "\n",
        "# Initialize multi-layer perceptron regressor \n",
        "clf = MLPRegressor(hidden_layer_sizes=(100,200,100), learning_rate='adaptive', \n",
        "                  solver='adam', learning_rate_init=0.001, max_iter=10,\n",
        "                   verbose=True, random_state=0)\n",
        "clf.fit(x_train, y_train)\n",
        "\n",
        "print('\\nMLP MODEL USING VECTORIZATION ONLY:')\n",
        "print('Training Data: --------------------------------------')\n",
        "print(f'Coefficient of Determination (R^2): {clf.score(x_train, y_train):.3f}')\n",
        "print('RMSE:', rmse_train_tree)\n",
        "\n",
        "print('Test Data: ------------------------------------------')\n",
        "print(f'Coefficient of Determination (R^2): {clf.score(x_test, y_test):.3f}')\n",
        "print('RMSE:', rmse_test_tree)\n",
        "print('-----------------------------------------------------\\n')\n",
        "\n",
        "sns.lineplot(x=[a for a in range(len(clf.loss_curve_))], y=clf.loss_curve_)\n",
        "fig.set(title='Loss Curve');"
      ],
      "execution_count": 143,
      "outputs": [
        {
          "output_type": "stream",
          "text": [
            "Iteration 1, loss = 2317804757.81797886\n",
            "Iteration 2, loss = 1661878228.03720188\n",
            "Iteration 3, loss = 1350895993.98036098\n",
            "Iteration 4, loss = 1275588132.97436190\n",
            "Iteration 5, loss = 1215323787.91857600\n",
            "Iteration 6, loss = 1163848458.67648625\n",
            "Iteration 7, loss = 1122073666.03160501\n",
            "Iteration 8, loss = 1087968042.00100160\n",
            "Iteration 9, loss = 1059488154.03140748\n",
            "Iteration 10, loss = 1036801237.19555664\n",
            "\n",
            "MLP MODEL USING VECTORIZATION ONLY:\n",
            "Training Data: --------------------------------------\n",
            "Coefficient of Determination (R^2): 0.297\n",
            "RMSE: 49223.71667398689\n",
            "Test Data: ------------------------------------------\n",
            "Coefficient of Determination (R^2): 0.214\n",
            "RMSE: 49891.88405576381\n",
            "-----------------------------------------------------\n",
            "\n"
          ],
          "name": "stdout"
        },
        {
          "output_type": "display_data",
          "data": {
            "image/png": "[encoded data removed]",
            "text/plain": [
              "<Figure size 460.8x345.6 with 1 Axes>"
            ]
          },
          "metadata": {
            "tags": []
          }
        }
      ]
    },
    {
      "cell_type": "markdown",
      "metadata": {
        "id": "ljN5mkWtcR4C"
      },
      "source": [
        "# **5.2.2 Approach 3: Sentiments and Vectorization**\n",
        "\n",
        "Perhaps we would be able to get better results if we combined the sentiments from Section 5.1 with the vectorization techniques from the previous section. We just append the sentiment vectors onto the back of the `CountVectorizer`."
      ]
    },
    {
      "cell_type": "code",
      "metadata": {
        "colab": {
          "base_uri": "https://localhost:8080/",
          "height": 712
        },
        "id": "YZUcF_PfOJwX",
        "outputId": "9330f46d-627b-44c6-8bb5-b2dfbfc5fb7f"
      },
      "source": [
        "from sklearn.feature_extraction.text import CountVectorizer\n",
        "from sklearn.neural_network import MLPRegressor\n",
        "from sklearn.metrics import accuracy_score\n",
        "\n",
        "# Generating Train/Test Split\n",
        "x = df[['clean_txt','pol', 'subj', 'comp', 'neg', 'neu', 'pos']]\n",
        "y = df[['likes', 'retweets']]\n",
        "x_train, x_test, y_train, y_test = train_test_split(x, y, test_size = 0.2, random_state = 0)\n",
        "\n",
        "# Get sentiments\n",
        "x_train_sents = x_train[['pol', 'subj', 'comp', 'neg', 'neu', 'pos']].to_numpy()\n",
        "x_test_sents = x_test[['pol', 'subj', 'comp', 'neg', 'neu', 'pos']].to_numpy()\n",
        "\n",
        "# Fit data using CountVectorizer\n",
        "x_train, x_test = x_train['clean_txt'], x_test['clean_txt']\n",
        "cv = CountVectorizer(stop_words=\"english\", max_features=4000, ngram_range=(1, 2))\n",
        "x_train, x_test = cv.fit_transform(x_train), cv.transform(x_test)\n",
        "\n",
        "x_train = np.array(x_train.todense()).astype(float)\n",
        "x_test = np.array(x_test.todense()).astype(float)\n",
        "\n",
        "# Concatenate sentiments onto training and testing vectors\n",
        "x_train = np.concatenate((x_train, x_train_sents), axis=1)\n",
        "x_test = np.concatenate((x_test, x_test_sents), axis=1)\n",
        "\n",
        "y_train, y_test = np.array(y_train), np.array(y_test)\n",
        "\n",
        "# Initialize multi-layer perceptron regressor \n",
        "clf = MLPRegressor(hidden_layer_sizes=(100,200,100), learning_rate='adaptive', \n",
        "                  solver='adam', learning_rate_init=0.001, max_iter=12,\n",
        "                   verbose=True, random_state=0)\n",
        "clf.fit(x_train, y_train)\n",
        "\n",
        "print('\\nMLP MODEL USING VECTORIZATION AND SENTIMENTS:')\n",
        "print('Training Data: --------------------------------------')\n",
        "print(f'Coefficient of Determination (R^2): {clf.score(x_train, y_train):.3f}')\n",
        "print('RMSE:', rmse_train_tree)\n",
        "\n",
        "print('Test Data: ------------------------------------------')\n",
        "print(f'Coefficient of Determination (R^2): {clf.score(x_test, y_test):.3f}')\n",
        "print('RMSE:', rmse_test_tree)\n",
        "print('-----------------------------------------------------\\n')\n",
        "\n",
        "sns.lineplot(x=[a for a in range(len(clf.loss_curve_))], y=clf.loss_curve_)\n",
        "fig.set(title='Loss Curve');"
      ],
      "execution_count": 145,
      "outputs": [
        {
          "output_type": "stream",
          "text": [
            "Iteration 1, loss = 2312252913.80813169\n",
            "Iteration 2, loss = 1627045596.42819786\n",
            "Iteration 3, loss = 1333930615.17270350\n",
            "Iteration 4, loss = 1268524194.98805666\n",
            "Iteration 5, loss = 1214144539.24404955\n",
            "Iteration 6, loss = 1167470997.76881480\n",
            "Iteration 7, loss = 1127501408.65916586\n",
            "Iteration 8, loss = 1093946938.76358581\n",
            "Iteration 9, loss = 1065723739.33932734\n",
            "Iteration 10, loss = 1041872310.45328760\n",
            "Iteration 11, loss = 1020060712.82641613\n",
            "Iteration 12, loss = 999980665.72163653\n",
            "MLP MODEL USING VECTORIZATION AND SENTIMENTS:\n",
            "Training Data: --------------------------------------\n",
            "Coefficient of Determination (R^2): 0.322\n",
            "RMSE: 49223.71667398689\n",
            "Test Data: ------------------------------------------\n",
            "Coefficient of Determination (R^2): 0.218\n",
            "RMSE: 49891.88405576381\n",
            "-----------------------------------------------------\n",
            "\n"
          ],
          "name": "stdout"
        },
        {
          "output_type": "display_data",
          "data": {
            "image/png": "[encoded data removed]",
            "text/plain": [
              "<Figure size 460.8x345.6 with 1 Axes>"
            ]
          },
          "metadata": {
            "tags": []
          }
        }
      ]
    },
    {
      "cell_type": "markdown",
      "metadata": {
        "id": "p78fSg8SfcXU"
      },
      "source": [
        "# **6. Results**\n",
        "\n",
        "Our initial goal was to predict the reception of Trump's tweets based off their content in order to potentially gain. Our first approach involved making a decision tree regressor based off features from analysis analysis. The coefficient of determination on the training and testing sets were $R^2 = 0.161$ and $R^2 = 0.077$. Based off the test $R^2$, the model is trash because it's only 7% better than using a straight line as a predictor. Next, we decided to vectorize the tweets and used a deep learning (multi-layer perceptron) model in hopes that directly representing the text as a vector would be a better representation of the tweets. The intution behind this is that sentiments are a summary of the tweet that lose some of the minutia of the tweet, whereas vectorization captures more of the tweets details by representing the contents of the tweet. For the test set, this resulted in $R^2 = 0.214$, which is considerably better than the decision tree. I suspect this is because a vector is a more detailed representation of a tweet. Continuing this line of thought, I thought it would make sense to use both the vectorization and the sentiment features in tandem in a deep learning model, so the third attempt did just that. Hopefully, the general sentiment features complimented the `CountVectorizer` features to make a more accurate regression. This third attempt resulted $R^2 = 0.218$, which is negligibly better than the vector only model."
      ]
    },
    {
      "cell_type": "markdown",
      "metadata": {
        "id": "az21maXe2aX4"
      },
      "source": [
        "# **6.1 Future Work**\n",
        "\n",
        "A possible improvement we could have made would have been utilizing TF-IDF instead of a vectorized model. A paper by Daga et al. suggests, \"The overall low accuracy of all our models can be because the Doc2Vec \\[vector\\] technique is built for large texts i.e. 50+ words,\" meaning vectorization on short text like tweets is rather ineffective because the model is not given enough context. As for deep learning approaches, the authors note, \"Even though Deep Learning is a highly sought after approach when dealing with unstructured data (such as textual data) or when trying to increase the accuracy, we can say that it is not always the best.\" In fact, it should be noted that the best model found by the researchers in terms of testing accuracy was a random forest vectorized model, which could be tested in the future. "
      ]
    },
    {
      "cell_type": "markdown",
      "metadata": {
        "id": "pFDHLQGB4PEN"
      },
      "source": [
        "# **6.2 Conclusion**\n",
        "\n",
        "Hopefully, you learned a lot from this tutorial. I had a lot putting it together, and I hope you enjoyed pouring over the 45th president's tweets as much as I did.\n",
        "\n",
        "\\- Yichi \"Rocky\" Zhang"
      ]
    }
  ]
}